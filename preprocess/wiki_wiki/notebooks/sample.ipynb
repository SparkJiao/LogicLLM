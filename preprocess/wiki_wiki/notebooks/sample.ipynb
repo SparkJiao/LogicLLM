{
 "cells": [
  {
   "cell_type": "code",
   "execution_count": 2,
   "id": "69dd857e-5a30-45b8-9be0-29e1dcfec824",
   "metadata": {
    "pycharm": {
     "name": "#%%\n"
    }
   },
   "outputs": [],
   "source": [
    "import json\n",
    "from tqdm import tqdm\n",
    "from nltk import sent_tokenize"
   ]
  },
  {
   "cell_type": "code",
   "execution_count": 4,
   "id": "4dfc0ea2-a8ed-4236-bee8-f077fb8ff0a9",
   "metadata": {
    "pycharm": {
     "name": "#%%\n"
    }
   },
   "outputs": [],
   "source": [
    "kg = set()\n",
    "with open(\"../../wikidata5m/wikidata5m_transductive_train.txt\", \"r\") as f:\n",
    "    line = f.readline()\n",
    "    while line:\n",
    "        tmp = line.strip().split(\"\\t\")\n",
    "        s, rel, t = tmp\n",
    "        kg.add(\"\\t\".join([s, t]))\n",
    "        line = f.readline()"
   ]
  },
  {
   "cell_type": "code",
   "execution_count": 6,
   "id": "546aadaa-7819-4e5a-a688-23affb7438f2",
   "metadata": {
    "pycharm": {
     "name": "#%%\n"
    }
   },
   "outputs": [
    {
     "name": "stdout",
     "output_type": "stream",
     "text": [
      "12337655 1.238700855819843\n",
      "31493988 3.161997145225723\n"
     ]
    }
   ],
   "source": [
    "avg_edge = 0\n",
    "avg_sent = 0\n",
    "cnt = 0\n",
    "with open('train.jsonl.filtered', 'r') as f:\n",
    "    line = f.readline()\n",
    "    while line:\n",
    "        cnt += 1\n",
    "        item = json.loads(line)\n",
    "        mention2entity = item[\"mention2entity\"]\n",
    "        entities = [v[0] for v in mention2entity.values()]\n",
    "        sentences = sent_tokenize(item[\"context\"])\n",
    "        avg_sent += len(sentences)\n",
    "        \n",
    "        for ent1 in entities:\n",
    "            for ent2 in entities:\n",
    "                if ent1 == ent2:\n",
    "                    continue\n",
    "                if \"\\t\".join([ent1, ent2]) in kg:\n",
    "                    avg_edge += 1\n",
    "        line = f.readline()\n",
    "                    \n",
    "print(avg_edge, avg_edge / cnt)\n",
    "print(avg_sent, avg_sent / cnt)"
   ]
  },
  {
   "cell_type": "code",
   "execution_count": null,
   "id": "a1b99bda-db26-4c59-afc0-c099ab6da76f",
   "metadata": {
    "pycharm": {
     "name": "#%%\n"
    }
   },
   "outputs": [],
   "source": []
  }
 ],
 "metadata": {
  "kernelspec": {
   "display_name": "Python 3 (ipykernel)",
   "language": "python",
   "name": "python3"
  },
  "language_info": {
   "codemirror_mode": {
    "name": "ipython",
    "version": 3
   },
   "file_extension": ".py",
   "mimetype": "text/x-python",
   "name": "python",
   "nbconvert_exporter": "python",
   "pygments_lexer": "ipython3",
   "version": "3.9.12"
  }
 },
 "nbformat": 4,
 "nbformat_minor": 5
}